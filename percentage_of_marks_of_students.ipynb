{
 "cells": [
  {
   "cell_type": "markdown",
   "metadata": {},
   "source": [
    "You have a record of N students. Each record contains the student's name, and their percent marks in Maths, Physics and Chemistry. The marks can be floating values. The user enters some integer N followed by the names and marks for N students. You are required to save the record in a dictionary data type. The user then enters a student's name. Output the average percentage marks obtained by that student, correct to two decimal places.\n",
    "\n",
    "<b>Input Format</b>\n",
    "\n",
    "The first line contains the integer N, the number of students. The next N lines contains the name and marks obtained by that student separated by a space. The final line contains the name of a particular student previously listed.\n",
    "\n",
    "<b>Constraints</b>\n",
    "- 2<=N<=10\n",
    "- 0<=Marks<=100\n",
    "\n",
    "<b>Output Format</b>\n",
    "\n",
    "Print one line: The average of the marks obtained by the particular student correct to 2 decimal places.\n",
    "\n",
    "<b>Sample Input 0</b>\n",
    "\n",
    "3 <br/>\n",
    "Krishna 67 68 69 <br/>\n",
    "Arjun 70 98 63 <br/>\n",
    "Malika 52 56 60 <br/>\n",
    "Malika <br/>\n",
    "\n",
    "<b>Sample Output 0</b>\n",
    "\n",
    "56.00\n",
    "\n",
    "<b>Explanation 0</b>\n",
    "\n",
    "Marks for Malika are {52, 56, 60} whose average is (52+56+60)/3 => 56"
   ]
  },
  {
   "cell_type": "code",
   "execution_count": 1,
   "metadata": {},
   "outputs": [
    {
     "name": "stdout",
     "output_type": "stream",
     "text": [
      "3\n",
      "a 45 56 76\n",
      "b 76 67 23\n",
      "c 78 98 34\n",
      "34\n"
     ]
    }
   ],
   "source": [
    "# n = int(input())\n",
    "# student_marks = {}\n",
    "# for _ in range(n):\n",
    "#     name, *line = input().split()\n",
    "#     scores = list(map(float, line))\n",
    "#     student_marks[name] = scores\n",
    "# query_name = input()"
   ]
  },
  {
   "cell_type": "code",
   "execution_count": 13,
   "metadata": {},
   "outputs": [
    {
     "name": "stdout",
     "output_type": "stream",
     "text": [
      "68.00\n"
     ]
    }
   ],
   "source": [
    "student_marks = {'Krishna' : [67, 68, 69],\n",
    "                'Arjun' : [70, 98, 63],\n",
    "                'Malika' : [52, 56, 60]}\n",
    "student_marks['Krishna']\n",
    "query_name = 'Krishna'\n",
    "a = sum(student_marks[query_name])/3\n",
    "print('{:.2f}'.format(a))"
   ]
  }
 ],
 "metadata": {
  "kernelspec": {
   "display_name": "Python 3",
   "language": "python",
   "name": "python3"
  },
  "language_info": {
   "codemirror_mode": {
    "name": "ipython",
    "version": 3
   },
   "file_extension": ".py",
   "mimetype": "text/x-python",
   "name": "python",
   "nbconvert_exporter": "python",
   "pygments_lexer": "ipython3",
   "version": "3.7.3"
  }
 },
 "nbformat": 4,
 "nbformat_minor": 2
}
